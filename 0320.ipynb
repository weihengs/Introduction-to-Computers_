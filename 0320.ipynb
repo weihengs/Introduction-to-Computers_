{
  "nbformat": 4,
  "nbformat_minor": 0,
  "metadata": {
    "colab": {
      "provenance": [],
      "authorship_tag": "ABX9TyNwXx7buTeNCiaHXnRNn3lJ",
      "include_colab_link": true
    },
    "kernelspec": {
      "name": "python3",
      "display_name": "Python 3"
    },
    "language_info": {
      "name": "python"
    }
  },
  "cells": [
    {
      "cell_type": "markdown",
      "metadata": {
        "id": "view-in-github",
        "colab_type": "text"
      },
      "source": [
        "<a href=\"https://colab.research.google.com/github/weihengs/Introduction-to-Computers_/blob/main/0320.ipynb\" target=\"_parent\"><img src=\"https://colab.research.google.com/assets/colab-badge.svg\" alt=\"Open In Colab\"/></a>"
      ]
    },
    {
      "cell_type": "code",
      "source": [
        "test5=int(input(\"請輸入國文成績\"))\n",
        "test6=int(input(\"請輸入英文成績\"))\n",
        "test7=int(input(\"請輸入數學成績\"))\n",
        "test8=test5+test6+test7\n",
        "print(\"你的成績總分為:\",test8)"
      ],
      "metadata": {
        "colab": {
          "base_uri": "https://localhost:8080/"
        },
        "id": "MrvzfkJiXO3y",
        "outputId": "5cb14eea-4bda-4e16-f7df-69e7a63b07f2"
      },
      "execution_count": 81,
      "outputs": [
        {
          "output_type": "stream",
          "name": "stdout",
          "text": [
            "請輸入國文成績50\n",
            "請輸入英文成績60\n",
            "請輸入數學成績70\n",
            "你的成績總分為: 180\n"
          ]
        }
      ]
    },
    {
      "cell_type": "code",
      "source": [
        "6上底=int(input(\"請輸入梯形上底長度\"))\n",
        "下底=int(input(\"請輸入梯形下底長度\"))\n",
        "高=int(input(\"請輸入梯形高度\"))\n",
        "面積=(上底+下底)*高/2\n",
        "print(\"上底長度為:\",(上底),\"下底長度為:\",(下底),\"高度為:\",(高),\"面積為:\",(面積))"
      ],
      "metadata": {
        "colab": {
          "base_uri": "https://localhost:8080/"
        },
        "id": "5sbIS7edWA_N",
        "outputId": "e3581cb1-acf4-4e86-a84c-9ef9a4c947db"
      },
      "execution_count": null,
      "outputs": [
        {
          "output_type": "stream",
          "name": "stdout",
          "text": [
            "請輸入梯形上底長度3\n",
            "請輸入梯形下底長度4\n",
            "請輸入梯形高度3\n",
            "上底長度為: 3 下底長度為: 4 高度為: 3 面積為: 10.5\n"
          ]
        }
      ]
    },
    {
      "cell_type": "code",
      "source": [
        "公分身高=int(input(\"請輸入您的身高\"))\n",
        "體重=int(input(\"請輸入您的體重\"))\n",
        "BMI=體重/(公分身高/100)**2\n",
        "print(\"身高\",(公分身高),\"公分\",\"體重:\",(體重),\"公斤\",\"BMI值為\",(BMI),)"
      ],
      "metadata": {
        "colab": {
          "base_uri": "https://localhost:8080/"
        },
        "id": "z7HHe7EJRvIL",
        "outputId": "afa4129b-0342-4684-eb6a-95fcfcbde324"
      },
      "execution_count": null,
      "outputs": [
        {
          "output_type": "stream",
          "name": "stdout",
          "text": [
            "請輸入您的身高170\n",
            "請輸入您的體重60\n",
            "身高 170 公分 體重: 60 公斤 BMI值為 20.761245674740486\n"
          ]
        }
      ]
    },
    {
      "cell_type": "code",
      "source": [],
      "metadata": {
        "id": "3pgUppT3XvRt"
      },
      "execution_count": null,
      "outputs": []
    }
  ]
}