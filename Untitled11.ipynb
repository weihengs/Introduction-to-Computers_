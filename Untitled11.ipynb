{
  "nbformat": 4,
  "nbformat_minor": 0,
  "metadata": {
    "colab": {
      "provenance": [],
      "authorship_tag": "ABX9TyOv33Fl2y+AwqAFoKxMOOj+",
      "include_colab_link": true
    },
    "kernelspec": {
      "name": "python3",
      "display_name": "Python 3"
    },
    "language_info": {
      "name": "python"
    }
  },
  "cells": [
    {
      "cell_type": "markdown",
      "metadata": {
        "id": "view-in-github",
        "colab_type": "text"
      },
      "source": [
        "<a href=\"https://colab.research.google.com/github/weihengs/Introduction-to-Computers_/blob/main/Untitled11.ipynb\" target=\"_parent\"><img src=\"https://colab.research.google.com/assets/colab-badge.svg\" alt=\"Open In Colab\"/></a>"
      ]
    },
    {
      "cell_type": "code",
      "execution_count": 10,
      "metadata": {
        "colab": {
          "base_uri": "https://localhost:8080/"
        },
        "id": "aJ-zIkSAj3VB",
        "outputId": "34b316e5-4ee1-4dfe-aa13-833716950d28"
      },
      "outputs": [
        {
          "output_type": "stream",
          "name": "stdout",
          "text": [
            "請輸入體溫:398\n",
            "體溫過高\n"
          ]
        }
      ],
      "source": [
        "T=float(input(\"請輸入體溫:\"))\n",
        "if (T>=37.5):\n",
        "  print(\"體溫過高\")\n",
        "elif (37.4>T>37):\n",
        "  print(\"體溫略高!\")\n",
        "elif (36.9>T>34):\n",
        "  print(\"體溫正常!\")\n",
        "else:\n",
        "  print(\"體溫異常，請重新量測!\")"
      ]
    },
    {
      "cell_type": "code",
      "source": [
        "score=int(input(\"請輸入成績:\"))\n",
        "if (score>=90):\n",
        "  print(\"A\")\n",
        "elif (90>score>79):\n",
        "  print(\"B\")\n",
        "elif (80>score>69):\n",
        "  print(\"C\")\n",
        "elif (70>score>59):\n",
        "  print(\"D\")\n",
        "else:\n",
        "  print(\"E\")"
      ],
      "metadata": {
        "colab": {
          "base_uri": "https://localhost:8080/"
        },
        "id": "9J9rhj1eoPSM",
        "outputId": "ae4ca518-4c29-454a-fe11-1adfb92243f0"
      },
      "execution_count": 16,
      "outputs": [
        {
          "output_type": "stream",
          "name": "stdout",
          "text": [
            "請輸入成績:60\n",
            "D\n"
          ]
        }
      ]
    },
    {
      "cell_type": "code",
      "source": [
        "season=int(input(\"請輸入月份:\"))\n",
        "if (season==3or season==4or season==5):\n",
        "  print(\"春天\")\n",
        "elif (season==6or season==7or season==8):\n",
        "  print(\"夏天\")\n",
        "elif (season==9or season==10or season==11):\n",
        "  print(\"秋天\")\n",
        "elif (season==12or season==1or season==2):\n",
        "  print(\"冬天\")\n",
        "else:\n",
        "  print(\"月份不在範圍內!\")"
      ],
      "metadata": {
        "colab": {
          "base_uri": "https://localhost:8080/"
        },
        "id": "ynWP3LeBpxYd",
        "outputId": "79c494ea-a2b6-42cc-d4a0-1e94a66c6dd1"
      },
      "execution_count": 23,
      "outputs": [
        {
          "output_type": "stream",
          "name": "stdout",
          "text": [
            "請輸入月份:116\n",
            "月份不在範圍內!\n"
          ]
        }
      ]
    },
    {
      "cell_type": "code",
      "source": [],
      "metadata": {
        "id": "GM9M5hAQrFu7"
      },
      "execution_count": 20,
      "outputs": []
    }
  ]
}